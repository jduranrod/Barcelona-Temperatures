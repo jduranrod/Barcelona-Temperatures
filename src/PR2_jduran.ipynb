{
 "cells": [
  {
   "cell_type": "code",
   "execution_count": null,
   "id": "eacc3b97-266f-4d4c-bcb7-879f6147cb48",
   "metadata": {},
   "outputs": [],
   "source": [
    "import pandas as pd\n",
    "import matplotlib.pyplot as plt\n",
    "import cartopy.crs as ccrs\n",
    "import cartopy.feature as cfeature\n",
    "import numpy as np\n",
    "import os\n",
    "import imageio as io\n",
    "from scipy.interpolate import griddata\n",
    "from cartopy.io.img_tiles import OSM\n",
    "from matplotlib.colors import LinearSegmentedColormap"
   ]
  },
  {
   "cell_type": "code",
   "execution_count": null,
   "id": "5b0952c8-16ec-4d94-8621-78cf023ddf69",
   "metadata": {},
   "outputs": [],
   "source": [
    "df = pd.read_csv('data/data_tot.csv')"
   ]
  },
  {
   "cell_type": "code",
   "execution_count": null,
   "id": "166572f2-a329-4605-aa82-4182d5ceb45f",
   "metadata": {},
   "outputs": [],
   "source": [
    "# Convertim la columna de data en un objecte datetime\n",
    "df['DATA_LECTURA'] = pd.to_datetime(df['DATA_LECTURA'])\n",
    "\n",
    "# Creem una nova columna amb només la data (sense l'hora)\n",
    "df['date'] = df['DATA_LECTURA'].dt.date\n",
    "df['year']= df['DATA_LECTURA'].dt.year\n",
    "\n",
    "# Calculem la mitjana, màxima i mínima diàries\n",
    "daily_mean = df.groupby(['date', 'year', 'NOM_ESTACIO', 'LATITUD', 'LONGITUD'])['Temperatura'].mean().reset_index(name='Temperatura mitjana')\n",
    "daily_max = df.groupby(['date', 'year', 'NOM_ESTACIO', 'LATITUD', 'LONGITUD'])['Temperatura'].max().reset_index(name='Temperatura màxima')\n",
    "daily_min = df.groupby(['date', 'year', 'NOM_ESTACIO', 'LATITUD', 'LONGITUD'])['Temperatura'].min().reset_index(name='Temperatura mínima')"
   ]
  },
  {
   "cell_type": "code",
   "execution_count": null,
   "id": "6e673eba-de3a-41cb-8c63-8b651a277fe0",
   "metadata": {},
   "outputs": [],
   "source": [
    "# Fusionem els DataFrames un a un\n",
    "data_temp = pd.merge(daily_mean, daily_max, on=['date', 'year', 'NOM_ESTACIO', 'LATITUD', 'LONGITUD'])\n",
    "data_temp = pd.merge(data_temp, daily_min, on=['date', 'year', 'NOM_ESTACIO', 'LATITUD', 'LONGITUD'])"
   ]
  },
  {
   "cell_type": "code",
   "execution_count": null,
   "id": "18332170-4cea-4ccb-8dff-3d8aa7a8f996",
   "metadata": {},
   "outputs": [],
   "source": [
    "# Comprovem que la carpeta on volem guardar les imatges existeix. En cas contrari, la crearem\n",
    "path='imatges'\n",
    "if os.path.exists(path)==False:\n",
    "    os.makedirs(path)"
   ]
  },
  {
   "cell_type": "code",
   "execution_count": null,
   "id": "e05a23bc-51b5-4af1-bf24-d739828e0ee6",
   "metadata": {},
   "outputs": [],
   "source": [
    "# Generem el cmap per al heatmap de temperatures\n",
    "cmap = plt.get_cmap('turbo', 256)"
   ]
  },
  {
   "cell_type": "code",
   "execution_count": null,
   "id": "137711b1-616e-46b1-8a8e-70a2499ecb0e",
   "metadata": {},
   "outputs": [],
   "source": [
    "for d in data_temp['date'].values:\n",
    "  dades = data_temp[data_temp['date'] == d]\n",
    "\n",
    "  for col in dades.columns[5:]:\n",
    "    temp_min = dades[col].min()\n",
    "    temp_max = dades[col].max()\n",
    "    vmin = temp_min\n",
    "    vmax = temp_max\n",
    "\n",
    "    tiler = OSM()\n",
    "    fig, ax = plt.subplots(subplot_kw={'projection': tiler.crs})\n",
    "    ax.set_extent([dades['LONGITUD'].min()-0.005, dades['LONGITUD'].max()+0.005,\n",
    "                   dades['LATITUD'].min()-0.005, dades['LATITUD'].max()+0.005],\n",
    "                  crs=ccrs.PlateCarree())\n",
    "\n",
    "    ax.add_image(tiler, 12)\n",
    "\n",
    "    lon = np.linspace(dades['LONGITUD'].min(), dades['LONGITUD'].max(), 100)\n",
    "    lat = np.linspace(dades['LATITUD'].min(), dades['LATITUD'].max(), 100)\n",
    "    lon_grid, lat_grid = np.meshgrid(lon, lat)\n",
    "\n",
    "    points = dades[['LONGITUD', 'LATITUD']].values\n",
    "    values = dades[col].values\n",
    "    grid_z = griddata(points, values, (lon_grid, lat_grid), method='linear')\n",
    "\n",
    "    pcm = ax.pcolormesh(lon_grid, lat_grid, grid_z, cmap=cmap, shading='auto', alpha=0.7, transform=ccrs.PlateCarree(), vmin=vmin, vmax=vmax)\n",
    "    cbar = plt.colorbar(pcm, ax=ax, orientation='vertical', shrink=0.5, extend='both')\n",
    "    cbar.set_label(f'{col} (°C)')\n",
    "\n",
    "    # Título del mapa\n",
    "    ax.set_title(f'{col} en Barcelona: {d}')\n",
    "\n",
    "    # Mostrar la figura\n",
    "    plt.savefig(f'{path}/{col} {d}.png')\n",
    "    plt.close(fig)"
   ]
  },
  {
   "cell_type": "code",
   "execution_count": null,
   "id": "8e6658ec-a08c-49c6-8617-1e6e2b3e0f47",
   "metadata": {},
   "outputs": [],
   "source": [
    "# Obtenim tots els noms de totes les imatges generades\n",
    "imatges = os.listdir(path)\n",
    "temps = ['Temperatura mitjana', 'Temperatura màxima', 'Temperatura mínima']\n",
    "\n",
    "# Per cada tipus de temperatura afagem les imatges generades i creem els GIFs\n",
    "for t in temps:\n",
    "    im_gif = []\n",
    "    for i in imatges:\n",
    "        if i.startswith(t):\n",
    "            im_gif.append(i)\n",
    "    with io.get_writer(f'{t}.gif', mode='I', duration=1000) as writer:\n",
    "        for filename in im_gif:\n",
    "            pth = os.path.join(path, filename)\n",
    "            image = io.imread(pth)\n",
    "            writer.append_data(image)\n",
    "    writer.close()\n"
   ]
  },
  {
   "cell_type": "code",
   "execution_count": null,
   "id": "ef7a64fc-5ba5-4485-b4c2-bb242f82c0b1",
   "metadata": {},
   "outputs": [],
   "source": []
  }
 ],
 "metadata": {
  "kernelspec": {
   "display_name": "Python 3 (ipykernel)",
   "language": "python",
   "name": "python3"
  },
  "language_info": {
   "codemirror_mode": {
    "name": "ipython",
    "version": 3
   },
   "file_extension": ".py",
   "mimetype": "text/x-python",
   "name": "python",
   "nbconvert_exporter": "python",
   "pygments_lexer": "ipython3",
   "version": "3.11.9"
  }
 },
 "nbformat": 4,
 "nbformat_minor": 5
}
